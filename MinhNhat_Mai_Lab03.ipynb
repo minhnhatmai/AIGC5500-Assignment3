{
 "cells": [
  {
   "cell_type": "code",
   "execution_count": 138,
   "id": "cb66dfbd",
   "metadata": {},
   "outputs": [],
   "source": [
    "# Import PyTorch core libraries\n",
    "import torch\n",
    "import torch.nn as nn\n",
    "import torch.optim as optim\n",
    "\n",
    "# Import torchvision for datasets and transforms\n",
    "import torchvision\n",
    "import torchvision.transforms as transforms\n",
    "\n",
    "# Import DataLoader for batching\n",
    "from torch.utils.data import DataLoader"
   ]
  },
  {
   "cell_type": "code",
   "execution_count": 139,
   "id": "dade1628",
   "metadata": {},
   "outputs": [],
   "source": [
    "# Define transformations for the dataset (convert to tensor and normalize)\n",
    "transform = transforms.Compose([\n",
    "    transforms.ToTensor(),\n",
    "    transforms.Normalize((0.2860,), (0.3530,))\n",
    "])\n",
    "\n",
    "# Download and load the training dataset\n",
    "train_dataset = torchvision.datasets.FashionMNIST(\n",
    "    root='./data',\n",
    "    train=True,\n",
    "    download=True,\n",
    "    transform=transform\n",
    ")\n",
    "\n",
    "# Download and load the test dataset\n",
    "test_dataset = torchvision.datasets.FashionMNIST(\n",
    "    root='./data',\n",
    "    train=False,\n",
    "    download=True,\n",
    "    transform=transform\n",
    ")\n",
    "\n",
    "# Create DataLoaders for batching\n",
    "train_loader = DataLoader(train_dataset, batch_size=64, shuffle=True)\n",
    "test_loader = DataLoader(test_dataset, batch_size=64, shuffle=False)"
   ]
  },
  {
   "cell_type": "code",
   "execution_count": 140,
   "id": "21d242b0",
   "metadata": {},
   "outputs": [
    {
     "name": "stdout",
     "output_type": "stream",
     "text": [
      "Number of training samples: 60000\n",
      "Number of test samples: 10000\n"
     ]
    },
    {
     "data": {
      "image/png": "[encoded data removed]",
      "text/plain": [
       "<Figure size 640x480 with 1 Axes>"
      ]
     },
     "metadata": {},
     "output_type": "display_data"
    }
   ],
   "source": [
    "# Check the number of samples in the training and test datasets\n",
    "print(f\"Number of training samples: {len(train_dataset)}\")\n",
    "print(f\"Number of test samples: {len(test_dataset)}\")\n",
    "\n",
    "# Visualize a sample image and its label\n",
    "import matplotlib.pyplot as plt\n",
    "\n",
    "images, labels = next(iter(train_loader))\n",
    "plt.imshow(images[0].squeeze(), cmap='gray')\n",
    "plt.title(f\"Label: {labels[0].item()}\")\n",
    "plt.show()"
   ]
  },
  {
   "cell_type": "code",
   "execution_count": 141,
   "id": "816097e8",
   "metadata": {},
   "outputs": [],
   "source": [
    "# Improved Feedforward Neural Network with more neurons and an extra hidden layer\n",
    "class FeedforwardNN(nn.Module):\n",
    "    def __init__(self):\n",
    "        super(FeedforwardNN, self).__init__()\n",
    "        self.flatten = nn.Flatten()\n",
    "        self.fc1 = nn.Linear(28*28, 1024)\n",
    "        self.bn1 = nn.BatchNorm1d(1024)\n",
    "        self.relu1 = nn.LeakyReLU(0.01)\n",
    "        self.fc2 = nn.Linear(1024, 512)\n",
    "        self.bn2 = nn.BatchNorm1d(512)\n",
    "        self.relu2 = nn.LeakyReLU(0.01)\n",
    "        self.fc3 = nn.Linear(512, 256)\n",
    "        self.bn3 = nn.BatchNorm1d(256)\n",
    "        self.relu3 = nn.LeakyReLU(0.01)\n",
    "        self.fc4 = nn.Linear(256, 128)\n",
    "        self.bn4 = nn.BatchNorm1d(128)\n",
    "        self.relu4 = nn.LeakyReLU(0.01)\n",
    "        self.fc5 = nn.Linear(128, 10)\n",
    "        self.dropout = nn.Dropout(0.2)\n",
    "\n",
    "        # Weight initialization\n",
    "        nn.init.kaiming_uniform_(self.fc1.weight, nonlinearity='relu')\n",
    "        nn.init.kaiming_uniform_(self.fc2.weight, nonlinearity='relu')\n",
    "        nn.init.kaiming_uniform_(self.fc3.weight, nonlinearity='relu')\n",
    "        nn.init.kaiming_uniform_(self.fc4.weight, nonlinearity='relu')\n",
    "\n",
    "    def forward(self, x):\n",
    "        x = self.flatten(x)\n",
    "        x = self.fc1(x)\n",
    "        x = self.bn1(x)\n",
    "        x = self.relu1(x)\n",
    "        x = self.dropout(x)\n",
    "        x = self.fc2(x)\n",
    "        x = self.bn2(x)\n",
    "        x = self.relu2(x)\n",
    "        x = self.dropout(x)\n",
    "        x = self.fc3(x)\n",
    "        x = self.bn3(x)\n",
    "        x = self.relu3(x)\n",
    "        x = self.dropout(x)\n",
    "        x = self.fc4(x)\n",
    "        x = self.bn4(x)\n",
    "        x = self.relu4(x)\n",
    "        x = self.dropout(x)\n",
    "        x = self.fc5(x)\n",
    "        return x"
   ]
  },
  {
   "cell_type": "code",
   "execution_count": 142,
   "id": "bc0f2453",
   "metadata": {},
   "outputs": [
    {
     "name": "stdout",
     "output_type": "stream",
     "text": [
      "FeedforwardNN(\n",
      "  (flatten): Flatten(start_dim=1, end_dim=-1)\n",
      "  (fc1): Linear(in_features=784, out_features=1024, bias=True)\n",
      "  (bn1): BatchNorm1d(1024, eps=1e-05, momentum=0.1, affine=True, track_running_stats=True)\n",
      "  (relu1): LeakyReLU(negative_slope=0.01)\n",
      "  (fc2): Linear(in_features=1024, out_features=512, bias=True)\n",
      "  (bn2): BatchNorm1d(512, eps=1e-05, momentum=0.1, affine=True, track_running_stats=True)\n",
      "  (relu2): LeakyReLU(negative_slope=0.01)\n",
      "  (fc3): Linear(in_features=512, out_features=256, bias=True)\n",
      "  (bn3): BatchNorm1d(256, eps=1e-05, momentum=0.1, affine=True, track_running_stats=True)\n",
      "  (relu3): LeakyReLU(negative_slope=0.01)\n",
      "  (fc4): Linear(in_features=256, out_features=128, bias=True)\n",
      "  (bn4): BatchNorm1d(128, eps=1e-05, momentum=0.1, affine=True, track_running_stats=True)\n",
      "  (relu4): LeakyReLU(negative_slope=0.01)\n",
      "  (fc5): Linear(in_features=128, out_features=10, bias=True)\n",
      "  (dropout): Dropout(p=0.2, inplace=False)\n",
      ")\n"
     ]
    }
   ],
   "source": [
    "# Instantiate the model\n",
    "model = FeedforwardNN()\n",
    "print(model)"
   ]
  },
  {
   "cell_type": "code",
   "execution_count": 143,
   "id": "fc8802bc",
   "metadata": {},
   "outputs": [
    {
     "data": {
      "text/plain": [
       "FeedforwardNN(\n",
       "  (flatten): Flatten(start_dim=1, end_dim=-1)\n",
       "  (fc1): Linear(in_features=784, out_features=1024, bias=True)\n",
       "  (bn1): BatchNorm1d(1024, eps=1e-05, momentum=0.1, affine=True, track_running_stats=True)\n",
       "  (relu1): LeakyReLU(negative_slope=0.01)\n",
       "  (fc2): Linear(in_features=1024, out_features=512, bias=True)\n",
       "  (bn2): BatchNorm1d(512, eps=1e-05, momentum=0.1, affine=True, track_running_stats=True)\n",
       "  (relu2): LeakyReLU(negative_slope=0.01)\n",
       "  (fc3): Linear(in_features=512, out_features=256, bias=True)\n",
       "  (bn3): BatchNorm1d(256, eps=1e-05, momentum=0.1, affine=True, track_running_stats=True)\n",
       "  (relu3): LeakyReLU(negative_slope=0.01)\n",
       "  (fc4): Linear(in_features=256, out_features=128, bias=True)\n",
       "  (bn4): BatchNorm1d(128, eps=1e-05, momentum=0.1, affine=True, track_running_stats=True)\n",
       "  (relu4): LeakyReLU(negative_slope=0.01)\n",
       "  (fc5): Linear(in_features=128, out_features=10, bias=True)\n",
       "  (dropout): Dropout(p=0.2, inplace=False)\n",
       ")"
      ]
     },
     "execution_count": 143,
     "metadata": {},
     "output_type": "execute_result"
    }
   ],
   "source": [
    "model.to('cuda' if torch.cuda.is_available() else 'cpu')"
   ]
  },
  {
   "cell_type": "code",
   "execution_count": 144,
   "id": "ffac019e",
   "metadata": {},
   "outputs": [
    {
     "name": "stdout",
     "output_type": "stream",
     "text": [
      "cpu\n"
     ]
    }
   ],
   "source": [
    "# Print the device the model is on\n",
    "print(next(model.parameters()).device)"
   ]
  },
  {
   "cell_type": "code",
   "execution_count": 145,
   "id": "1770a2ef",
   "metadata": {},
   "outputs": [
    {
     "name": "stdout",
     "output_type": "stream",
     "text": [
      "Epoch [1/60], Loss: 0.8213\n",
      "Epoch [2/60], Loss: 0.4471\n",
      "Epoch [3/60], Loss: 0.3859\n",
      "Epoch [4/60], Loss: 0.3501\n",
      "Epoch [5/60], Loss: 0.3275\n",
      "Epoch [6/60], Loss: 0.3095\n",
      "Epoch [7/60], Loss: 0.2954\n",
      "Epoch [8/60], Loss: 0.2829\n",
      "Epoch [9/60], Loss: 0.2681\n",
      "Epoch [10/60], Loss: 0.2561\n",
      "Epoch [11/60], Loss: 0.2498\n",
      "Epoch [12/60], Loss: 0.2388\n",
      "Epoch [13/60], Loss: 0.2310\n",
      "Epoch [14/60], Loss: 0.2208\n",
      "Epoch [15/60], Loss: 0.2145\n",
      "Epoch [16/60], Loss: 0.2090\n",
      "Epoch [17/60], Loss: 0.2025\n",
      "Epoch [18/60], Loss: 0.1951\n",
      "Epoch [19/60], Loss: 0.1888\n",
      "Epoch [20/60], Loss: 0.1840\n",
      "Epoch [21/60], Loss: 0.1769\n",
      "Epoch [22/60], Loss: 0.1717\n",
      "Epoch [23/60], Loss: 0.1672\n",
      "Epoch [24/60], Loss: 0.1626\n",
      "Epoch [25/60], Loss: 0.1580\n",
      "Epoch [26/60], Loss: 0.1498\n",
      "Epoch [27/60], Loss: 0.1494\n",
      "Epoch [28/60], Loss: 0.1459\n",
      "Epoch [29/60], Loss: 0.1417\n",
      "Epoch [30/60], Loss: 0.1355\n",
      "Epoch [31/60], Loss: 0.1323\n",
      "Epoch [32/60], Loss: 0.1322\n",
      "Epoch [33/60], Loss: 0.1286\n",
      "Epoch [34/60], Loss: 0.1212\n",
      "Epoch [35/60], Loss: 0.1194\n",
      "Epoch [36/60], Loss: 0.1126\n",
      "Epoch [37/60], Loss: 0.1138\n",
      "Epoch [38/60], Loss: 0.1097\n",
      "Epoch [39/60], Loss: 0.1109\n",
      "Epoch [40/60], Loss: 0.1039\n",
      "Epoch [41/60], Loss: 0.1015\n",
      "Epoch [42/60], Loss: 0.1047\n",
      "Epoch [43/60], Loss: 0.0982\n",
      "Epoch [44/60], Loss: 0.0964\n",
      "Epoch [45/60], Loss: 0.0940\n",
      "Epoch [46/60], Loss: 0.0942\n",
      "Epoch [47/60], Loss: 0.0895\n",
      "Epoch [48/60], Loss: 0.0880\n",
      "Epoch [49/60], Loss: 0.0846\n",
      "Epoch [50/60], Loss: 0.0871\n",
      "Epoch [51/60], Loss: 0.0801\n",
      "Epoch [52/60], Loss: 0.0796\n",
      "Epoch [53/60], Loss: 0.0797\n",
      "Epoch [54/60], Loss: 0.0790\n",
      "Epoch [55/60], Loss: 0.0765\n",
      "Epoch [56/60], Loss: 0.0763\n",
      "Epoch [57/60], Loss: 0.0727\n",
      "Epoch [58/60], Loss: 0.0727\n",
      "Epoch [59/60], Loss: 0.0723\n",
      "Epoch [60/60], Loss: 0.0688\n"
     ]
    }
   ],
   "source": [
    "# Set device\n",
    "device = torch.device('cuda' if torch.cuda.is_available() else 'cpu')\n",
    "model.to(device)\n",
    "\n",
    "# Define loss function and optimizer\n",
    "criterion = nn.CrossEntropyLoss()\n",
    "optimizer = optim.Adam(model.parameters(), lr=0.0001, weight_decay=1e-5)\n",
    "\n",
    "# Training loop\n",
    "num_epochs = 60\n",
    "for epoch in range(num_epochs):\n",
    "    model.train()\n",
    "    running_loss = 0.0\n",
    "    for images, labels in train_loader:\n",
    "        images, labels = images.to(device), labels.to(device)\n",
    "\n",
    "        # Zero the parameter gradients\n",
    "        optimizer.zero_grad()\n",
    "\n",
    "        # Forward pass\n",
    "        outputs = model(images)\n",
    "        loss = criterion(outputs, labels)\n",
    "\n",
    "        # Backward pass and optimize\n",
    "        loss.backward()\n",
    "        optimizer.step()\n",
    "        \n",
    "        running_loss += loss.item()\n",
    "\n",
    "    avg_loss = running_loss / len(train_loader)\n",
    "    print(f\"Epoch [{epoch+1}/{num_epochs}], Loss: {avg_loss:.4f}\")"
   ]
  },
  {
   "cell_type": "code",
   "execution_count": 146,
   "id": "428327e6",
   "metadata": {},
   "outputs": [
    {
     "name": "stdout",
     "output_type": "stream",
     "text": [
      "Test Accuracy: 90.37%\n"
     ]
    }
   ],
   "source": [
    "# Evaluate test accuracy after training\n",
    "model.eval()\n",
    "correct = 0\n",
    "total = 0\n",
    "with torch.no_grad():\n",
    "    for images, labels in test_loader:\n",
    "        images, labels = images.to(device), labels.to(device)\n",
    "        outputs = model(images)\n",
    "        _, predicted = torch.max(outputs, 1)\n",
    "        total += labels.size(0)\n",
    "        correct += (predicted == labels).sum().item()\n",
    "\n",
    "accuracy = 100 * correct / total\n",
    "print(f\"Test Accuracy: {accuracy:.2f}%\")"
   ]
  },
  {
   "cell_type": "code",
   "execution_count": null,
   "id": "a6a6f0bb",
   "metadata": {},
   "outputs": [],
   "source": []
  }
 ],
 "metadata": {
  "kernelspec": {
   "display_name": "py-tf-torch-env",
   "language": "python",
   "name": "python3"
  },
  "language_info": {
   "codemirror_mode": {
    "name": "ipython",
    "version": 3
   },
   "file_extension": ".py",
   "mimetype": "text/x-python",
   "name": "python",
   "nbconvert_exporter": "python",
   "pygments_lexer": "ipython3",
   "version": "3.12.9"
  }
 },
 "nbformat": 4,
 "nbformat_minor": 5
}
